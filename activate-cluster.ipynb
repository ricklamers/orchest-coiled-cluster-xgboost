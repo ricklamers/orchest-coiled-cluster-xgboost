{
 "cells": [
  {
   "cell_type": "code",
   "execution_count": 1,
   "metadata": {},
   "outputs": [],
   "source": [
    "import coiled\n",
    "import os\n",
    "import orchest\n",
    "\n",
    "from dask.distributed import Client"
   ]
  },
  {
   "cell_type": "code",
   "execution_count": 2,
   "metadata": {},
   "outputs": [],
   "source": [
    "account = \"ricklamers\"\n",
    "software_env = \"my-pip-env\""
   ]
  },
  {
   "cell_type": "code",
   "execution_count": 3,
   "metadata": {},
   "outputs": [],
   "source": [
    "existing_envs = coiled.list_software_environments()"
   ]
  },
  {
   "cell_type": "code",
   "execution_count": 4,
   "metadata": {},
   "outputs": [],
   "source": [
    "if account + \"/\" + software_env not in existing_envs:\n",
    "    print(\"Creating software environment...\")\n",
    "    \n",
    "    coiled.create_software_environment(\n",
    "        name=software_env,\n",
    "        pip=\"requirements.txt\",\n",
    "    )"
   ]
  },
  {
   "cell_type": "code",
   "execution_count": 5,
   "metadata": {},
   "outputs": [],
   "source": [
    "existing_cluster_names = list(coiled.list_clusters().keys())"
   ]
  },
  {
   "cell_type": "code",
   "execution_count": 6,
   "metadata": {},
   "outputs": [
    {
     "data": {
      "text/plain": [
       "['ricklamers-089f46d8-d']"
      ]
     },
     "execution_count": 6,
     "metadata": {},
     "output_type": "execute_result"
    }
   ],
   "source": [
    "existing_cluster_names"
   ]
  },
  {
   "cell_type": "code",
   "execution_count": 7,
   "metadata": {
    "tags": []
   },
   "outputs": [
    {
     "data": {
      "text/html": [
       "<pre style=\"white-space:pre;overflow-x:auto;line-height:normal;font-family:Menlo,'DejaVu Sans Mono',consolas,'Courier New',monospace\"><span style=\"color: #008000; text-decoration-color: #008000\">⠦</span> <span style=\"color: #008000; text-decoration-color: #008000; font-weight: bold\">Creating Cluster. This might take a few minutes...</span>\n",
       "</pre>\n"
      ],
      "text/plain": [
       "\u001b[32m⠦\u001b[0m \u001b[1;32mCreating Cluster. This might take a few minutes...\u001b[0m\n"
      ]
     },
     "metadata": {},
     "output_type": "display_data"
    },
    {
     "data": {
      "text/html": [
       "<pre style=\"white-space:pre;overflow-x:auto;line-height:normal;font-family:Menlo,'DejaVu Sans Mono',consolas,'Courier New',monospace\"></pre>\n"
      ],
      "text/plain": []
     },
     "metadata": {},
     "output_type": "display_data"
    }
   ],
   "source": [
    "if not existing_cluster_names:\n",
    "    cluster = coiled.Cluster(n_workers=3, software=software_env)\n",
    "    existing_cluster_names = list(coiled.list_clusters().keys())\n",
    "    cluster_name = existing_cluster_names[0]\n",
    "else:\n",
    "    cluster_name = existing_cluster_names[0]\n",
    "    cluster = coiled.Cluster(name=cluster_name)"
   ]
  },
  {
   "cell_type": "code",
   "execution_count": 8,
   "metadata": {},
   "outputs": [
    {
     "name": "stdout",
     "output_type": "stream",
     "text": [
      "Dashboard: http://127.0.0.1:8787/status\n"
     ]
    }
   ],
   "source": [
    "client = Client(name=cluster_name)\n",
    "print('Dashboard:', client.dashboard_link)"
   ]
  },
  {
   "cell_type": "code",
   "execution_count": 9,
   "metadata": {},
   "outputs": [],
   "source": [
    "orchest.output(cluster_name, name=\"cluster_name\")"
   ]
  }
 ],
 "metadata": {
  "kernelspec": {
   "display_name": "Python 3",
   "language": "python",
   "name": "orchest-kernel-bf9a19ea-9a9d-4e80-b252-01650cd8bee9"
  },
  "language_info": {
   "codemirror_mode": {
    "name": "ipython",
    "version": 3
   },
   "file_extension": ".py",
   "mimetype": "text/x-python",
   "name": "python",
   "nbconvert_exporter": "python",
   "pygments_lexer": "ipython3",
   "version": "3.7.6"
  }
 },
 "nbformat": 4,
 "nbformat_minor": 4
}
