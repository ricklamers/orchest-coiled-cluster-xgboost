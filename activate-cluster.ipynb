{
 "cells": [
  {
   "cell_type": "code",
   "execution_count": 2,
   "metadata": {},
   "outputs": [],
   "source": [
    "import coiled\n",
    "import os\n",
    "import orchest\n",
    "\n",
    "from dask.distributed import Client"
   ]
  },
  {
   "cell_type": "code",
   "execution_count": 3,
   "metadata": {},
   "outputs": [],
   "source": [
    "software_env = \"my-pip-env\""
   ]
  },
  {
   "cell_type": "code",
   "execution_count": 3,
   "metadata": {
    "collapsed": true,
    "jupyter": {
     "outputs_hidden": true
    },
    "tags": []
   },
   "outputs": [
    {
     "name": "stdout",
     "output_type": "stream",
     "text": [
      "Creating new ecr build\n",
      "Creating new software environment\n",
      "STEP 1: FROM coiled/default:sha-6b4e896\n",
      "STEP 2: COPY environment.yml environment.yml\n",
      "--> Using cache 238232d1769ec728662c3276a98efaf8d7044ed8b441af08d55214bf97d11845\n",
      "--> 238232d1769\n",
      "--> Using cache 1efa5ede7f7649fd1d7ade71e18c70e5a8b13f4cb2ecc0420ec425b7da5e41fc\n",
      "STEP 3: RUN conda env update -n coiled -f environment.yml     && rm environment.yml     && conda clean --all -y     && echo \"conda activate coiled\" >> ~/.bashrc\n",
      "--> 1efa5ede7f7\n",
      "--> Using cache 8e9334a542b7f9f4a753910d3a79e0fcd2505e0d7e04140fb656ed8f3d7a184d\n",
      "STEP 4: ENV PATH /opt/conda/envs/coiled/bin:$PATH\n",
      "--> 8e9334a542b\n",
      "--> Using cache af15fef2238a6972fa2232c077511f2bab528d7325ad9937b31f7e93ec540bcf\n",
      "STEP 5: SHELL [\"conda\", \"run\", \"-n\", \"coiled\", \"/bin/bash\", \"-c\"]\n",
      "--> af15fef2238\n",
      "STEP 6: COPY requirements.txt requirements.txt\n",
      "--> fd0530f3792\n",
      "STEP 7: RUN pip install -r requirements.txt     && rm requirements.txt\n",
      "Collecting boto3==1.19.1\n",
      "Downloading aiobotocore-2.0.1.tar.gz (54 kB)\n",
      "Collecting aiobotocore~=2.0.1\n",
      "Collecting backcall\n",
      "Collecting wcwidth\n",
      "Collecting click>=6.6\n",
      "Collecting dask==2021.11.2\n",
      "Downloading cloudpickle-2.0.0-py3-none-any.whl (25 kB)\n",
      "Downloading fsspec-2021.11.1-py3-none-any.whl (132 kB)\n",
      "Downloading coiled-0.0.60-py3-none-any.whl (99 kB)\n",
      "Downloading dask-2021.11.2-py3-none-any.whl (1.0 MB)\n",
      "Collecting dask_ml\n",
      "Downloading dask_xgboost-0.2.0-py2.py3-none-any.whl (14 kB)\n",
      "Collecting distributed==2021.11.2\n",
      "Downloading dask_ml-2021.11.30-py3-none-any.whl (148 kB)\n",
      "Collecting cloudpickle>=1.5.0\n",
      "Collecting dask_xgboost\n",
      "Downloading python_dateutil-2.8.2-py2.py3-none-any.whl (247 kB)\n",
      "Downloading dask-2021.12.0-py3-none-any.whl (1.0 MB)\n",
      "Collecting scikit-learn>=1.0.0\n",
      "Downloading numba-0.54.1-cp37-cp37m-manylinux2014_x86_64.manylinux_2_17_x86_64.whl (3.3 MB)\n",
      "Collecting numpy>=1.20.0\n",
      "Downloading wrapt-1.13.3-cp37-cp37m-manylinux_2_5_x86_64.manylinux1_x86_64.manylinux_2_12_x86_64.manylinux2010_x86_64.whl (79 kB)\n",
      "Collecting aiosignal>=1.1.2\n",
      "Collecting numba>=0.51.0\n",
      "Collecting xgboost<=0.90\n",
      "Downloading pandas-1.3.5-cp37-cp37m-manylinux_2_17_x86_64.manylinux2014_x86_64.whl (11.3 MB)\n",
      "Collecting multipledispatch>=0.4.9\n",
      "Downloading attrs-21.4.0-py2.py3-none-any.whl (60 kB)\n",
      "Downloading asynctest-0.13.0-py3-none-any.whl (26 kB)\n",
      "Downloading xgboost-0.90-py2.py3-none-manylinux1_x86_64.whl (142.8 MB)\n",
      "Collecting async-timeout<5.0,>=4.0.0a3\n",
      "Collecting multidict<7.0,>=4.5\n",
      "Downloading async_timeout-4.0.2-py3-none-any.whl (5.8 kB)\n",
      "Downloading scikit_learn-1.0.2-cp37-cp37m-manylinux_2_17_x86_64.manylinux2014_x86_64.whl (24.8 MB)\n",
      "Downloading aiosignal-1.2.0-py3-none-any.whl (8.2 kB)\n",
      "Collecting numpy>=1.20.0\n",
      "Downloading MarkupSafe-2.0.1-cp37-cp37m-manylinux_2_5_x86_64.manylinux1_x86_64.manylinux_2_12_x86_64.manylinux2010_x86_64.whl (31 kB)\n",
      "Collecting ipython\n",
      "Collecting python-dateutil<3.0.0,>=2.1\n",
      "Downloading six-1.16.0-py2.py3-none-any.whl (11 kB)\n",
      "Collecting pillow>=7.1.0\n",
      "Collecting MarkupSafe>=2.0\n",
      "Downloading llvmlite-0.37.0-cp37-cp37m-manylinux2014_x86_64.whl (26.3 MB)\n",
      "Collecting sortedcontainers!=2.0.0,!=2.0.1\n",
      "Collecting urllib3<1.27,>=1.25.4\n",
      "Downloading Jinja2-3.0.3-py3-none-any.whl (133 kB)\n",
      "Collecting aiohttp>=3.3.1\n",
      "Downloading urllib3-1.26.7-py2.py3-none-any.whl (138 kB)\n",
      "Downloading psutil-5.9.0-cp37-cp37m-manylinux_2_12_x86_64.manylinux2010_x86_64.manylinux_2_17_x86_64.manylinux2014_x86_64.whl (280 kB)\n",
      "Collecting wrapt>=1.10.10\n",
      "Downloading sortedcontainers-2.4.0-py2.py3-none-any.whl (29 kB)\n",
      "Downloading click-8.0.3-py3-none-any.whl (97 kB)\n",
      "Collecting msgpack>=0.6.0\n",
      "Downloading tornado-6.1-cp37-cp37m-manylinux2010_x86_64.whl (428 kB)\n",
      "Collecting zict>=0.1.3\n",
      "Downloading msgpack-1.0.3-cp37-cp37m-manylinux_2_17_x86_64.manylinux2014_x86_64.whl (299 kB)\n",
      "Downloading PyYAML-6.0-cp37-cp37m-manylinux_2_5_x86_64.manylinux1_x86_64.manylinux_2_12_x86_64.manylinux2010_x86_64.whl (596 kB)\n",
      "Collecting partd>=0.3.10\n",
      "Downloading zict-2.0.0-py3-none-any.whl (10 kB)\n",
      "Collecting tornado>=5\n",
      "Collecting jinja2\n",
      "Collecting psutil>=5.0\n",
      "Downloading tblib-1.7.0-py2.py3-none-any.whl (12 kB)\n",
      "Requirement already satisfied: setuptools in /opt/conda/envs/coiled/lib/python3.7/site-packages (from distributed==2021.11.2->-r requirements.txt (line 9)) (58.0.4)\n",
      "Collecting tblib>=1.6.0\n",
      "Collecting packaging>=20.0\n",
      "Downloading toolz-0.11.2-py3-none-any.whl (55 kB)\n",
      "Downloading boto3-1.19.1-py3-none-any.whl (131 kB)\n",
      "Collecting toolz>=0.8.2\n",
      "Collecting s3transfer<0.6.0,>=0.5.0\n",
      "Downloading jmespath-0.10.0-py2.py3-none-any.whl (24 kB)\n",
      "Collecting jmespath<1.0.0,>=0.7.1\n",
      "Downloading botocore-1.22.8-py3-none-any.whl (8.1 MB)\n",
      "Collecting coiled\n",
      "Downloading partd-1.2.0-py3-none-any.whl (19 kB)\n",
      "Collecting pyyaml\n",
      "Downloading packaging-21.3-py3-none-any.whl (40 kB)\n",
      "Collecting fsspec==2021.11.1\n",
      "Downloading s3transfer-0.5.0-py3-none-any.whl (79 kB)\n",
      "Downloading distributed-2021.11.2-py3-none-any.whl (802 kB)\n",
      "Collecting botocore<1.22.9\n",
      "Collecting matplotlib-inline\n",
      "Downloading idna-3.3-py3-none-any.whl (61 kB)\n",
      "Downloading pexpect-4.8.0-py2.py3-none-any.whl (59 kB)\n",
      "Downloading wcwidth-0.2.5-py2.py3-none-any.whl (30 kB)\n",
      "Building wheel for aiobotocore (setup.py): started\n",
      "Downloading parso-0.8.3-py2.py3-none-any.whl (100 kB)\n",
      "Downloading ptyprocess-0.7.0-py2.py3-none-any.whl (13 kB)\n",
      "Building wheel for aiobotocore (setup.py): finished with status 'done'\n",
      "Collecting pexpect>4.3\n",
      "Collecting ptyprocess>=0.5\n",
      "Successfully built aiobotocore\n",
      "Downloading prompt_toolkit-3.0.24-py3-none-any.whl (374 kB)\n",
      "Downloading aiohttp-3.8.1-cp37-cp37m-manylinux_2_5_x86_64.manylinux1_x86_64.manylinux_2_12_x86_64.manylinux2010_x86_64.whl (1.1 MB)\n",
      "Collecting aioitertools>=0.5.1\n",
      "Collecting llvmlite<0.38,>=0.37.0rc1\n",
      "Downloading decorator-5.1.0-py3-none-any.whl (9.1 kB)\n",
      "Downloading pytz-2021.3-py2.py3-none-any.whl (503 kB)\n",
      "Downloading pyparsing-3.0.6-py3-none-any.whl (97 kB)\n",
      "Collecting locket\n",
      "Downloading traitlets-5.1.1-py3-none-any.whl (102 kB)\n",
      "Collecting commonmark<0.10.0,>=0.9.0\n",
      "Downloading commonmark-0.9.1-py2.py3-none-any.whl (51 kB)\n",
      "Downloading Pillow-9.0.0-cp37-cp37m-manylinux_2_17_x86_64.manylinux2014_x86_64.whl (4.3 MB)\n",
      "Collecting pygments<3.0.0,>=2.6.0\n",
      "Collecting pytz>=2017.3\n",
      "Collecting asynctest==0.13.0\n",
      "Collecting bokeh!=2.0.0,>=1.0.0\n",
      "Collecting importlib-metadata\n",
      "Downloading bokeh-2.4.2-py3-none-any.whl (18.5 MB)\n",
      "Downloading yarl-1.7.2-cp37-cp37m-manylinux_2_5_x86_64.manylinux1_x86_64.manylinux_2_12_x86_64.manylinux2010_x86_64.whl (271 kB)\n",
      "Downloading importlib_metadata-4.10.0-py3-none-any.whl (17 kB)\n",
      "Collecting charset-normalizer<3.0,>=2.0\n",
      "Downloading multidict-5.2.0-cp37-cp37m-manylinux_2_5_x86_64.manylinux1_x86_64.manylinux_2_12_x86_64.manylinux2010_x86_64.whl (160 kB)\n",
      "Collecting frozenlist>=1.1.1\n",
      "Collecting attrs>=17.3.0\n",
      "Downloading frozenlist-1.2.0-cp37-cp37m-manylinux_2_5_x86_64.manylinux1_x86_64.manylinux_2_12_x86_64.manylinux2010_x86_64.whl (192 kB)\n",
      "Collecting scipy\n",
      "Collecting yarl<2.0,>=1.0\n",
      "Downloading dask_glm-0.2.0-py2.py3-none-any.whl (12 kB)\n",
      "Downloading typing_extensions-4.0.1-py3-none-any.whl (22 kB)\n",
      "Downloading rich-10.16.2-py3-none-any.whl (214 kB)\n",
      "Collecting s3fs\n",
      "Downloading s3fs-2021.11.1-py3-none-any.whl (25 kB)\n",
      "Downloading multipledispatch-0.6.0-py3-none-any.whl (11 kB)\n",
      "Collecting rich>=9.4.0\n",
      "Downloading charset_normalizer-2.0.10-py3-none-any.whl (39 kB)\n",
      "Downloading numpy-1.21.5-cp37-cp37m-manylinux_2_12_x86_64.manylinux2010_x86_64.whl (15.7 MB)\n",
      "Downloading scipy-1.7.3-cp37-cp37m-manylinux_2_12_x86_64.manylinux2010_x86_64.whl (38.1 MB)\n",
      "Downloading aioitertools-0.8.0-py3-none-any.whl (21 kB)\n",
      "Collecting dask-glm>=0.2.0\n",
      "Downloading ipython-7.31.0-py3-none-any.whl (792 kB)\n",
      "Collecting dask[complete]>=2.23.0\n",
      "Downloading backoff-1.11.1-py2.py3-none-any.whl (13 kB)\n",
      "Stored in directory: /root/.cache/pip/wheels/56/cd/99/917ef1080ec8cc6f1c903f4622761689c3886bc49306855a0e\n",
      "Building wheels for collected packages: aiobotocore\n",
      "Downloading pickleshare-0.7.5-py2.py3-none-any.whl (6.9 kB)\n",
      "Collecting backoff>=1.10.0\n",
      "Collecting parso<0.9.0,>=0.8.0\n",
      "Installing collected packages: zipp, typing-extensions, toolz, six, pyparsing, multidict, locket, idna, frozenlist, yarl, urllib3, pyyaml, python-dateutil, partd, packaging, numpy, MarkupSafe, jmespath, importlib-metadata, heapdict, fsspec, cloudpickle, charset-normalizer, attrs, asynctest, async-timeout, aiosignal, zict, wrapt, wcwidth, traitlets, tornado, threadpoolctl, tblib, sortedcontainers, scipy, pytz, ptyprocess, psutil, pillow, parso, msgpack, joblib, jinja2, dask, click, botocore, aioitertools, aiohttp, scikit-learn, s3transfer, pygments, prompt-toolkit, pickleshare, pexpect, pandas, multipledispatch, matplotlib-inline, llvmlite, jedi, distributed, decorator, commonmark, colorama, bokeh, backcall, aiobotocore, xgboost, s3fs, rich, numba, ipython, dask-glm, boto3, backoff, dask-xgboost, dask-ml, coiled\n",
      "Collecting pandas>=1.1.0\n",
      "Collecting typing-extensions\n",
      "Collecting jedi>=0.16\n",
      "Collecting pickleshare\n",
      "Downloading matplotlib_inline-0.1.3-py3-none-any.whl (8.2 kB)\n",
      "Downloading jedi-0.18.1-py2.py3-none-any.whl (1.6 MB)\n",
      "Downloading backcall-0.2.0-py2.py3-none-any.whl (11 kB)\n",
      "Downloading zipp-3.7.0-py3-none-any.whl (5.3 kB)\n",
      "Collecting zipp>=0.5\n",
      "Collecting traitlets>=4.2\n",
      "Collecting prompt-toolkit!=3.0.0,!=3.0.1,<3.1.0,>=2.0.0\n",
      "Collecting joblib>=0.11\n",
      "Downloading numpy-1.20.3-cp37-cp37m-manylinux_2_12_x86_64.manylinux2010_x86_64.whl (15.3 MB)\n",
      "Collecting pyparsing!=3.0.5,>=2.0.2\n",
      "Collecting colorama<0.5.0,>=0.4.0\n",
      "Downloading Pygments-2.11.1-py3-none-any.whl (1.1 MB)\n",
      "Collecting decorator\n",
      "Downloading colorama-0.4.4-py2.py3-none-any.whl (16 kB)\n",
      "Collecting threadpoolctl>=2.0.0\n",
      "Collecting idna>=2.0\n",
      "Collecting heapdict\n",
      "Downloading locket-0.2.1-py2.py3-none-any.whl (4.1 kB)\n",
      "Downloading HeapDict-1.0.1-py3-none-any.whl (3.9 kB)\n",
      "Collecting six\n",
      "Downloading threadpoolctl-3.0.0-py3-none-any.whl (14 kB)\n",
      "Downloading joblib-1.1.0-py2.py3-none-any.whl (306 kB)\n",
      "Successfully installed MarkupSafe-2.0.1 aiobotocore-2.0.1 aiohttp-3.8.1 aioitertools-0.8.0 aiosignal-1.2.0 async-timeout-4.0.2 asynctest-0.13.0 attrs-21.4.0 backcall-0.2.0 backoff-1.11.1 bokeh-2.4.2 boto3-1.19.1 botocore-1.22.8 charset-normalizer-2.0.10 click-8.0.3 cloudpickle-2.0.0 coiled-0.0.60 colorama-0.4.4 commonmark-0.9.1 dask-2021.11.2 dask-glm-0.2.0 dask-ml-2021.11.30 dask-xgboost-0.2.0 decorator-5.1.0 distributed-2021.11.2 frozenlist-1.2.0 fsspec-2021.11.1 heapdict-1.0.1 idna-3.3 importlib-metadata-4.10.0 ipython-7.31.0 jedi-0.18.1 jinja2-3.0.3 jmespath-0.10.0 joblib-1.1.0 llvmlite-0.37.0 locket-0.2.1 matplotlib-inline-0.1.3 msgpack-1.0.3 multidict-5.2.0 multipledispatch-0.6.0 numba-0.54.1 numpy-1.20.3 packaging-21.3 pandas-1.3.5 parso-0.8.3 partd-1.2.0 pexpect-4.8.0 pickleshare-0.7.5 pillow-9.0.0 prompt-toolkit-3.0.24 psutil-5.9.0 ptyprocess-0.7.0 pygments-2.11.1 pyparsing-3.0.6 python-dateutil-2.8.2 pytz-2021.3 pyyaml-6.0 rich-10.16.2 s3fs-2021.11.1 s3transfer-0.5.0 scikit-learn-1.0.2 scipy-1.7.3 six-1.16.0 sortedcontainers-2.4.0 tblib-1.7.0 threadpoolctl-3.0.0 toolz-0.11.2 tornado-6.1 traitlets-5.1.1 typing-extensions-4.0.1 urllib3-1.26.7 wcwidth-0.2.5 wrapt-1.13.3 xgboost-0.90 yarl-1.7.2 zict-2.0.0 zipp-3.7.0\n",
      "\n",
      "Created wheel for aiobotocore: filename=aiobotocore-2.0.1-py3-none-any.whl size=51992 sha256=562ccdc1d92c71e7c0fc78ac04765186545ab981588cb1e67625056e219458e2\n",
      "STEP 8: COMMIT 68a0b918-7f20-4480-a7b3-fba554d739d3\n",
      "--> 0ab22b2a7fe\n",
      "\n",
      "0ab22b2a7fe9a005e20eb7699ac14b84af782f0a3dfc82d171a7c8521ce23293\n",
      "WARNING: Running pip as the 'root' user can result in broken permissions and conflicting behaviour with the system package manager. It is recommended to use a virtual environment instead: https://pip.pypa.io/warnings/venv\n",
      "Docker build succeeded: 68a0b918-7f20-4480-a7b3-fba554d739d3\n",
      "Copying blob sha256:24a20b81a0e28670da086edb76c199a9c1fbd96746e3d9b699bc44fad71e5f63\n",
      "Getting image source signatures\n",
      "Copying blob sha256:44290b3bbc9f67b205bc1b7b3738e6792bdeb2dc2af1f5324ac7c11b2e11b2fb\n",
      "Copying blob sha256:f5600c6330da7bb112776ba067a32a9c20842d6ecc8ee3289f1a713b644092f8\n",
      "Copying blob sha256:0553ab4c463e8dd22931a5deb37e8014a18cde60d6be1337f4415de56649a947\n",
      "Copying blob sha256:95586cf65be51397fa66deda7dc39e71cde778b158d00667af113db52029d2bb\n",
      "Copying blob sha256:dfef8986f350d2efb7dd633410dceac30543be620085d9819f42db7067f55f64\n",
      "Writing manifest to image destination\n",
      "Copying config sha256:0ab22b2a7fe9a005e20eb7699ac14b84af782f0a3dfc82d171a7c8521ce23293\n",
      "Copying blob sha256:5f48161517efdd69bdd60f19bc0f239fd01340d42149e951a257625c1fec3ca5\n",
      "Copying blob sha256:04bca37841afff8a023410bd83e79f9ec3f2074b010bed0c10667aafcb60b5f6\n",
      "Storing signatures\n",
      "Copying blob sha256:95586cf65be51397fa66deda7dc39e71cde778b158d00667af113db52029d2bb\n",
      "Getting image source signatures\n",
      "Copying blob sha256:24a20b81a0e28670da086edb76c199a9c1fbd96746e3d9b699bc44fad71e5f63\n",
      "Copying blob sha256:f5600c6330da7bb112776ba067a32a9c20842d6ecc8ee3289f1a713b644092f8\n",
      "Copying blob sha256:0553ab4c463e8dd22931a5deb37e8014a18cde60d6be1337f4415de56649a947\n",
      "Copying blob sha256:dfef8986f350d2efb7dd633410dceac30543be620085d9819f42db7067f55f64\n",
      "Copying blob sha256:44290b3bbc9f67b205bc1b7b3738e6792bdeb2dc2af1f5324ac7c11b2e11b2fb\n",
      "Writing manifest to image destination\n",
      "Copying config sha256:0ab22b2a7fe9a005e20eb7699ac14b84af782f0a3dfc82d171a7c8521ce23293\n",
      "Copying blob sha256:04bca37841afff8a023410bd83e79f9ec3f2074b010bed0c10667aafcb60b5f6\n",
      "Copying blob sha256:5f48161517efdd69bdd60f19bc0f239fd01340d42149e951a257625c1fec3ca5\n",
      "Storing signatures\n",
      "Environment created\n",
      "Successfully saved software environment build\n"
     ]
    }
   ],
   "source": [
    "coiled.create_software_environment(\n",
    "    name=software_env,\n",
    "    pip=\"requirements.txt\",\n",
    ")"
   ]
  },
  {
   "cell_type": "code",
   "execution_count": 4,
   "metadata": {
    "tags": []
   },
   "outputs": [
    {
     "data": {
      "text/plain": [
       "{'ricklamers/my-pip-env': {'identifier': '68a0b918-7f20-4480-a7b3-fba554d739d3',\n",
       "  'account': 'ricklamers',\n",
       "  'container': None,\n",
       "  'conda': {'dependencies': ['python=3.7']},\n",
       "  'conda_env_name': None,\n",
       "  'pip': ['aiobotocore~=2.0.1',\n",
       "   'boto3==1.19.1',\n",
       "   'botocore<1.22.9',\n",
       "   'cloudpickle>=1.5.0',\n",
       "   'coiled',\n",
       "   'dask==2021.11.2 ',\n",
       "   'dask_ml',\n",
       "   'dask_xgboost',\n",
       "   'distributed==2021.11.2',\n",
       "   'fsspec==2021.11.1'],\n",
       "  'post_build': None,\n",
       "  'private': False,\n",
       "  'latest': True,\n",
       "  'active': True,\n",
       "  'environ': None}}"
      ]
     },
     "execution_count": 4,
     "metadata": {},
     "output_type": "execute_result"
    }
   ],
   "source": [
    "coiled.list_software_environments()"
   ]
  },
  {
   "cell_type": "code",
   "execution_count": 5,
   "metadata": {
    "tags": []
   },
   "outputs": [
    {
     "data": {
      "text/html": [
       "<pre style=\"white-space:pre;overflow-x:auto;line-height:normal;font-family:Menlo,'DejaVu Sans Mono',consolas,'Courier New',monospace\"><span style=\"color: #008000; text-decoration-color: #008000\">⠹</span> <span style=\"color: #008000; text-decoration-color: #008000; font-weight: bold\">Creating Cluster. This might take a few minutes...</span>\n",
       "</pre>\n"
      ],
      "text/plain": [
       "\u001b[32m⠹\u001b[0m \u001b[1;32mCreating Cluster. This might take a few minutes...\u001b[0m\n"
      ]
     },
     "metadata": {},
     "output_type": "display_data"
    },
    {
     "data": {
      "text/html": [
       "<pre style=\"white-space:pre;overflow-x:auto;line-height:normal;font-family:Menlo,'DejaVu Sans Mono',consolas,'Courier New',monospace\"></pre>\n"
      ],
      "text/plain": []
     },
     "metadata": {},
     "output_type": "display_data"
    }
   ],
   "source": [
    "cluster = coiled.Cluster(n_workers=3, software=software_env)"
   ]
  },
  {
   "cell_type": "code",
   "execution_count": 6,
   "metadata": {},
   "outputs": [],
   "source": [
    "cluster_credentials = {\"address\": cluster.scheduler_address, \"security\": cluster.security}"
   ]
  },
  {
   "cell_type": "code",
   "execution_count": 7,
   "metadata": {},
   "outputs": [
    {
     "name": "stdout",
     "output_type": "stream",
     "text": [
      "Dashboard: http://3.235.247.64:8787/status\n"
     ]
    },
    {
     "name": "stderr",
     "output_type": "stream",
     "text": [
      "/opt/conda/lib/python3.7/site-packages/distributed/client.py:1131: VersionMismatchWarning: Mismatched versions found\n",
      "\n",
      "+---------+---------------+----------------+----------------+\n",
      "| Package | client        | scheduler      | workers        |\n",
      "+---------+---------------+----------------+----------------+\n",
      "| numpy   | 1.21.5        | 1.20.3         | 1.20.3         |\n",
      "| python  | 3.7.6.final.0 | 3.7.11.final.0 | 3.7.11.final.0 |\n",
      "+---------+---------------+----------------+----------------+\n",
      "  warnings.warn(version_module.VersionMismatchWarning(msg[0][\"warning\"]))\n"
     ]
    }
   ],
   "source": [
    "client = Client(cluster_credentials['address'], security=cluster_credentials['security'])\n",
    "print('Dashboard:', client.dashboard_link)"
   ]
  },
  {
   "cell_type": "code",
   "execution_count": 8,
   "metadata": {},
   "outputs": [],
   "source": [
    "orchest.output(cluster_credentials, name=\"cluster_credentials\")"
   ]
  }
 ],
 "metadata": {
  "kernelspec": {
   "display_name": "Python 3",
   "language": "python",
   "name": "orchest-kernel-bf9a19ea-9a9d-4e80-b252-01650cd8bee9"
  },
  "language_info": {
   "codemirror_mode": {
    "name": "ipython",
    "version": 3
   },
   "file_extension": ".py",
   "mimetype": "text/x-python",
   "name": "python",
   "nbconvert_exporter": "python",
   "pygments_lexer": "ipython3",
   "version": "3.7.6"
  }
 },
 "nbformat": 4,
 "nbformat_minor": 4
}
