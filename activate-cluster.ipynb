{
 "cells": [
  {
   "cell_type": "code",
   "execution_count": null,
   "metadata": {},
   "outputs": [],
   "source": [
    "import coiled\n",
    "import os\n",
    "import orchest\n",
    "\n",
    "from dask.distributed import Client"
   ]
  },
  {
   "cell_type": "code",
   "execution_count": null,
   "metadata": {},
   "outputs": [],
   "source": [
    "account = \"ricklamers\"\n",
    "software_env = \"my-pip-env\""
   ]
  },
  {
   "cell_type": "code",
   "execution_count": null,
   "metadata": {},
   "outputs": [],
   "source": [
    "existing_envs = coiled.list_software_environments()"
   ]
  },
  {
   "cell_type": "code",
   "execution_count": null,
   "metadata": {},
   "outputs": [],
   "source": [
    "if account + \"/\" + software_env not in existing_envs:\n",
    "    print(\"Creating software environment...\")\n",
    "    \n",
    "    coiled.create_software_environment(\n",
    "        name=software_env,\n",
    "        pip=\"requirements.txt\",\n",
    "    )"
   ]
  },
  {
   "cell_type": "code",
   "execution_count": null,
   "metadata": {},
   "outputs": [],
   "source": [
    "existing_cluster_names = list(coiled.list_clusters().keys())"
   ]
  },
  {
   "cell_type": "code",
   "execution_count": null,
   "metadata": {},
   "outputs": [],
   "source": [
    "existing_cluster_names"
   ]
  },
  {
   "cell_type": "code",
   "execution_count": null,
   "metadata": {
    "tags": []
   },
   "outputs": [],
   "source": [
    "if not existing_cluster_names:\n",
    "    cluster = coiled.Cluster(n_workers=3, software=software_env)\n",
    "    existing_cluster_names = list(coiled.list_clusters().keys())\n",
    "    cluster_name = existing_cluster_names[0]\n",
    "else:\n",
    "    print(\"Found cluster, reusing...\")\n",
    "    cluster_name = existing_cluster_names[0]\n",
    "    cluster = coiled.Cluster(name=cluster_name)"
   ]
  },
  {
   "cell_type": "code",
   "execution_count": null,
   "metadata": {},
   "outputs": [],
   "source": [
    "client = Client(name=cluster_name)\n",
    "print('Dashboard:', client.dashboard_link)"
   ]
  },
  {
   "cell_type": "code",
   "execution_count": null,
   "metadata": {},
   "outputs": [],
   "source": [
    "orchest.output(cluster_name, name=\"cluster_name\")"
   ]
  }
 ],
 "metadata": {
  "kernelspec": {
   "display_name": "Python 3",
   "language": "python",
   "name": "orchest-kernel-bf9a19ea-9a9d-4e80-b252-01650cd8bee9"
  },
  "language_info": {
   "codemirror_mode": {
    "name": "ipython",
    "version": 3
   },
   "file_extension": ".py",
   "mimetype": "text/x-python",
   "name": "python",
   "nbconvert_exporter": "python",
   "pygments_lexer": "ipython3",
   "version": "3.7.6"
  }
 },
 "nbformat": 4,
 "nbformat_minor": 4
}
